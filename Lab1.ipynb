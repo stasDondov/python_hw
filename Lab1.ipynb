{
 "cells": [
  {
   "cell_type": "markdown",
   "id": "golden-grove",
   "metadata": {},
   "source": [
    "# Лабораторна робота 1"
   ]
  },
  {
   "cell_type": "markdown",
   "id": "split-tomato",
   "metadata": {},
   "source": [
    "### Аналізуємо QuickSort та MergeSort. "
   ]
  },
  {
   "cell_type": "code",
   "execution_count": 1,
   "id": "quality-herald",
   "metadata": {},
   "outputs": [],
   "source": [
    "from datetime import datetime\n",
    "from numpy import euler_gamma\n",
    "from math import log\n",
    "import sys \n",
    "import numpy as np\n",
    "from itertools import permutations\n",
    "import matplotlib.pyplot as plt"
   ]
  },
  {
   "cell_type": "markdown",
   "id": "brutal-opportunity",
   "metadata": {},
   "source": [
    "**Завдання 1.** Напишіть програми, які обчислюють середню кількість порівнянь в QuickSort за рекурсіями двома способами: \n",
    "- (I)    $C_{n} = n + 1 + \\frac{1}{n} \\sum \\limits_{i=1} ^{n} (C_{i-1} + C_{n-i}), C_{0}=0$"
   ]
  },
  {
   "cell_type": "code",
   "execution_count": 2,
   "id": "atlantic-longitude",
   "metadata": {},
   "outputs": [],
   "source": [
    "def Cn_1(n):\n",
    "    if n == 0:\n",
    "        return 0\n",
    "    s = 0\n",
    "    for i in range(1, n+1):\n",
    "        s += Cn_1(i-1) + Cn_1(n-i)\n",
    "    return n + 1 + (1/n)*s"
   ]
  },
  {
   "cell_type": "markdown",
   "id": "broken-kennedy",
   "metadata": {},
   "source": [
    "- (II)   $C_{n} = \\frac{n+1}{n} C_{n-1} + 2, C_{0}=0$"
   ]
  },
  {
   "cell_type": "code",
   "execution_count": 3,
   "id": "honey-counter",
   "metadata": {},
   "outputs": [],
   "source": [
    "def Cn_2(n):\n",
    "    if n == 0:\n",
    "        return 0\n",
    "    return ((n+1)/n) * Cn_2(n-1) + 2"
   ]
  },
  {
   "cell_type": "markdown",
   "id": "heard-screening",
   "metadata": {},
   "source": [
    "Проведіть наступні експерименти та поясніть результати."
   ]
  },
  {
   "cell_type": "markdown",
   "id": "incorporate-animal",
   "metadata": {},
   "source": [
    "**(а)** Порівняйте час роботи з обчислення $C_{n}$ першим та другим методом."
   ]
  },
  {
   "cell_type": "code",
   "execution_count": 4,
   "id": "interested-staff",
   "metadata": {},
   "outputs": [],
   "source": [
    "def calculate_time(f, *args):\n",
    "    \"\"\" Повертає час виконання функції f у секундах. \"\"\"\n",
    "    start = datetime.now()\n",
    "    f(*args)\n",
    "    full_time = datetime.now() - start\n",
    "    sec = full_time.seconds\n",
    "    msec = full_time.microseconds\n",
    "    return sec + (msec // 10 ** (len(str(msec)) - 3)) * 0.001\n",
    "    # результати чисельно досить малі, можуть суттєво відрізнятись після кожного запуску"
   ]
  },
  {
   "cell_type": "code",
   "execution_count": 5,
   "id": "fiscal-atlantic",
   "metadata": {},
   "outputs": [
    {
     "data": {
      "text/plain": [
       "4.389"
      ]
     },
     "execution_count": 5,
     "metadata": {},
     "output_type": "execute_result"
    }
   ],
   "source": [
    "# Cn_1(16)  <=>  10 seconds\n",
    "# Cn_1(17)  <=>  27 seconds\n",
    "# Cn_1(18)  <=>  87 seconds\n",
    "\n",
    "# Cn_2(16)  <=>  0.189 seconds\n",
    "# Cn_2(17)  <=>  0.209 seconds\n",
    "# Cn_2(18)  <=>  0.249 seconds\n",
    "\n",
    "calculate_time(Cn_1, 15)"
   ]
  },
  {
   "cell_type": "markdown",
   "id": "imperial-yorkshire",
   "metadata": {},
   "source": [
    "**Висновок:** другим методом $C_{n}$ обчислюється швидше."
   ]
  },
  {
   "cell_type": "markdown",
   "id": "beginning-express",
   "metadata": {},
   "source": [
    "**(б)** Обчисліть $C_n$ для $n \\leq 10^5$ та порівняйте з наближенням $C_{n} \\approx 2(n+1)(ln(n+1) + \\gamma - 1)$"
   ]
  },
  {
   "cell_type": "code",
   "execution_count": 6,
   "id": "concrete-stylus",
   "metadata": {},
   "outputs": [],
   "source": [
    "def approx_Cn(n):\n",
    "    return 2 * (n+1) * (log(n+1) + euler_gamma - 1)"
   ]
  },
  {
   "cell_type": "code",
   "execution_count": 7,
   "id": "honest-mexican",
   "metadata": {},
   "outputs": [
    {
     "data": {
      "text/plain": [
       "175770.69594962476"
      ]
     },
     "execution_count": 7,
     "metadata": {},
     "output_type": "execute_result"
    }
   ],
   "source": [
    "n1 = 10**4\n",
    "v1 = approx_Cn(n1)\n",
    "v1"
   ]
  },
  {
   "cell_type": "code",
   "execution_count": 8,
   "id": "polish-automation",
   "metadata": {},
   "outputs": [
    {
     "data": {
      "text/plain": [
       "175771.69593295958"
      ]
     },
     "execution_count": 8,
     "metadata": {},
     "output_type": "execute_result"
    }
   ],
   "source": [
    "sys.setrecursionlimit(10**5)\n",
    "\n",
    "v2 = Cn_2(n1)\n",
    "v2"
   ]
  },
  {
   "cell_type": "code",
   "execution_count": 9,
   "id": "pleasant-citizenship",
   "metadata": {},
   "outputs": [
    {
     "data": {
      "text/plain": [
       "0.9999833348265383"
      ]
     },
     "execution_count": 9,
     "metadata": {},
     "output_type": "execute_result"
    }
   ],
   "source": [
    "er1 = abs(v1 - v2)  # похибка\n",
    "er1"
   ]
  },
  {
   "cell_type": "markdown",
   "id": "private-waterproof",
   "metadata": {},
   "source": [
    "**(в)** Використати кращу апроксимацію для гармонічних чисел $H_{n}$ для отримання кращої апроксимації для чисел $C_{n}$."
   ]
  },
  {
   "cell_type": "code",
   "execution_count": 10,
   "id": "protecting-township",
   "metadata": {},
   "outputs": [],
   "source": [
    "def harmonic(n):\n",
    "    s = 0\n",
    "    for i in range(1, n+1):\n",
    "        s += 1/i\n",
    "    return s"
   ]
  },
  {
   "cell_type": "code",
   "execution_count": 11,
   "id": "approved-probability",
   "metadata": {},
   "outputs": [
    {
     "data": {
      "text/plain": [
       "175771.69593295903"
      ]
     },
     "execution_count": 11,
     "metadata": {},
     "output_type": "execute_result"
    }
   ],
   "source": [
    "v3 = 2 * (n1+1) * (harmonic(n1+1) - 1)\n",
    "v3"
   ]
  },
  {
   "cell_type": "code",
   "execution_count": 12,
   "id": "opening-theology",
   "metadata": {},
   "outputs": [
    {
     "data": {
      "text/plain": [
       "5.529727786779404e-10"
      ]
     },
     "execution_count": 12,
     "metadata": {},
     "output_type": "execute_result"
    }
   ],
   "source": [
    "er2 = abs(v3 - v2)\n",
    "er2"
   ]
  },
  {
   "cell_type": "markdown",
   "id": "moving-teens",
   "metadata": {},
   "source": [
    "**(г)** Порівняйте час обчислення $C_{n}$ за рекурсією (II) та час обчислення наближеного значення."
   ]
  },
  {
   "cell_type": "code",
   "execution_count": 13,
   "id": "aboriginal-glance",
   "metadata": {},
   "outputs": [
    {
     "data": {
      "text/plain": [
       "0.651"
      ]
     },
     "execution_count": 13,
     "metadata": {},
     "output_type": "execute_result"
    }
   ],
   "source": [
    "calculate_time(Cn_2, 1000)"
   ]
  },
  {
   "cell_type": "code",
   "execution_count": 14,
   "id": "strange-start",
   "metadata": {},
   "outputs": [
    {
     "data": {
      "text/plain": [
       "0.11900000000000001"
      ]
     },
     "execution_count": 14,
     "metadata": {},
     "output_type": "execute_result"
    }
   ],
   "source": [
    "calculate_time(approx_Cn, 1000)"
   ]
  },
  {
   "cell_type": "markdown",
   "id": "listed-gallery",
   "metadata": {},
   "source": [
    "**Висновок:** обчислення наближеного значення швидше за рекурсію."
   ]
  },
  {
   "cell_type": "markdown",
   "id": "annoying-cooking",
   "metadata": {},
   "source": [
    "**Завдання 2.** Реалізуйте QuickSort та MergeSort."
   ]
  },
  {
   "cell_type": "code",
   "execution_count": 15,
   "id": "opened-renaissance",
   "metadata": {},
   "outputs": [],
   "source": [
    "def quick_sort(lst):\n",
    "    \n",
    "    def _quick_sort(array, a, b):\n",
    "        if a >= b:\n",
    "            return array\n",
    "        pivot = array[a + (b - a) // 2]\n",
    "        left = a\n",
    "        right = b\n",
    "\n",
    "        while True:\n",
    "            while array[left] < pivot:\n",
    "                left += 1\n",
    "\n",
    "            while pivot < array[right]:\n",
    "                right -= 1\n",
    "\n",
    "            if left >= right:\n",
    "                break\n",
    "\n",
    "            array[left], array[right] = array[right], array[left]\n",
    "            left += 1\n",
    "            right -= 1\n",
    "\n",
    "        _quick_sort(array, a, right)\n",
    "        _quick_sort(array, right + 1, b)\n",
    "    \n",
    "    return _quick_sort(lst, 0, len(lst) - 1)"
   ]
  },
  {
   "cell_type": "code",
   "execution_count": 16,
   "id": "protective-grocery",
   "metadata": {},
   "outputs": [
    {
     "data": {
      "text/plain": [
       "[-65, -1, 0, 2, 5]"
      ]
     },
     "execution_count": 16,
     "metadata": {},
     "output_type": "execute_result"
    }
   ],
   "source": [
    "a = [-1, 0, 2, -65, 5]\n",
    "quick_sort(a)\n",
    "a"
   ]
  },
  {
   "cell_type": "code",
   "execution_count": 17,
   "id": "regional-entity",
   "metadata": {},
   "outputs": [],
   "source": [
    "def merge_sort(array):\n",
    "    if len(array) <= 1:\n",
    "        return array\n",
    "    \n",
    "    half = len(array) // 2\n",
    "    left = merge_sort(array[:half])\n",
    "    right = merge_sort(array[half:])\n",
    "    return merge(left, right)\n",
    "\n",
    "\n",
    "def merge(left, right):    \n",
    "    left_index = 0\n",
    "    right_index = 0\n",
    "    result = []\n",
    "    while left_index < len(left) and right_index < len(right):\n",
    "        if left[left_index] < right[right_index]:\n",
    "            result.append(left[left_index])\n",
    "            left_index += 1\n",
    "        else:\n",
    "            result.append(right[right_index])\n",
    "            right_index += 1\n",
    "    \n",
    "    result += left[left_index:]\n",
    "    result += right[right_index:]\n",
    "    return result"
   ]
  },
  {
   "cell_type": "code",
   "execution_count": 18,
   "id": "clear-collectible",
   "metadata": {},
   "outputs": [
    {
     "data": {
      "text/plain": [
       "[-65, -1, 0, 2, 5]"
      ]
     },
     "execution_count": 18,
     "metadata": {},
     "output_type": "execute_result"
    }
   ],
   "source": [
    "a = [-1, 0, 2, -65, 5]\n",
    "a = merge_sort(a)\n",
    "a"
   ]
  },
  {
   "cell_type": "markdown",
   "id": "viral-baker",
   "metadata": {},
   "source": [
    "**(а) (Порівняння)** Згенеруйте масиви розміру $n = 10^4, 10^5, 10^6$ як випадкові перестановки чисел $1, 2, ..., n$, і порівняйте час роботи QuickSort та MergeSort по сортуванню цих масивів. (Візьміть середній час роботи по сортуванню, наприклад, $10^2$ випадкових масивів для кожного $n$.)"
   ]
  },
  {
   "cell_type": "code",
   "execution_count": 19,
   "id": "friendly-salem",
   "metadata": {},
   "outputs": [
    {
     "name": "stdout",
     "output_type": "stream",
     "text": [
      "n = 10^4:\n",
      "    - час роботи MergeSort = 0.397 секунд.\n",
      "    - час роботи QuickSort = 0.225 секунд.\n",
      "n = 10^5:\n",
      "    - час роботи MergeSort = 0.502 секунд.\n",
      "    - час роботи QuickSort = 0.302 секунд.\n",
      "n = 10^6:\n",
      "    - час роботи MergeSort = 5.996 секунд.\n",
      "    - час роботи QuickSort = 3.713 секунд.\n"
     ]
    }
   ],
   "source": [
    "for n in [4, 5, 6]:\n",
    "    ms = []\n",
    "    qs = []\n",
    "    for i in range(100):\n",
    "        arr = list(np.random.permutation(10**n))\n",
    "        ms.append(calculate_time(merge_sort, arr))\n",
    "        qs.append(calculate_time(quick_sort, arr))\n",
    "    print(\"n = 10^{}:\".format(n))    \n",
    "    print(\"    - час роботи MergeSort = {:.3f} секунд.\".format(sum(ms) / 100))\n",
    "    print(\"    - час роботи QuickSort = {:.3f} секунд.\".format(sum(qs) / 100))"
   ]
  },
  {
   "cell_type": "markdown",
   "id": "identical-daily",
   "metadata": {},
   "source": [
    "**Висновок:** $QuickSort$ працює швидше ніж $MergeSort$."
   ]
  },
  {
   "cell_type": "markdown",
   "id": "marked-tracker",
   "metadata": {},
   "source": [
    "**(б) (Прогнозування)** Будемо вважати, що $QuickSort$ та $MergeSort$ мають час роботи $c_{Q}nlogn$ та $c_{M}nlogn$, де константи $c_{Q}, c_{M}$ залежать тільки від вашого комп'ютера. Обчисліть наближено константи $c_{Q}, c_{M}$, використавши реальний час роботи для $n=10^4$ або $10^5$ з попереднього пункту. Знаючи ці константи, спрогнозуйте час роботи $QuickSort$ та $MergeSort$ по сортуванню масивів розміру $n=10^6, 10^7$. Перевірте, наскільки був точний цей прогноз."
   ]
  },
  {
   "cell_type": "code",
   "execution_count": 20,
   "id": "annual-retirement",
   "metadata": {},
   "outputs": [
    {
     "name": "stdout",
     "output_type": "stream",
     "text": [
      "Прогнозований час роботи\n",
      "    - MergeSort для n = 10^6: 6.0 секунд.\n",
      "    - QuickSort для n = 10^6: 3.599999999999999 секунд.\n",
      "\n",
      "    - MergeSort для n = 10^7: 70.0 секунд.\n",
      "    - QuickSort для n = 10^7: 42.0 секунд.\n"
     ]
    }
   ],
   "source": [
    "# використаємо дані для n=10^5\n",
    "\n",
    "cM = 0.5 / (10**5 * log(10**5))\n",
    "cQ = 0.3 / (10**5 * log(10**5))\n",
    "\n",
    "# Прогноз\n",
    "print(\"Прогнозований час роботи\")\n",
    "print(\"    - MergeSort для n = 10^6: {} секунд.\".format(cM * 10**6 * log(10**6)))\n",
    "print(\"    - QuickSort для n = 10^6: {} секунд.\".format(cQ * 10**6 * log(10**6)))\n",
    "print(\"\\n    - MergeSort для n = 10^7: {} секунд.\".format(cM * 10**7 * log(10**7)))\n",
    "print(\"    - QuickSort для n = 10^7: {} секунд.\".format(cQ * 10**7 * log(10**7)))"
   ]
  },
  {
   "cell_type": "code",
   "execution_count": 21,
   "id": "seeing-ballet",
   "metadata": {},
   "outputs": [],
   "source": [
    "# цей фрагмент коду обчислювально важкий для комп'ютера, тому його не запускатиму\n",
    "\n",
    "print(\"Реальний час роботи:\")\n",
    "\n",
    "for n in [6, 7]:\n",
    "    ms = []\n",
    "    qs = []\n",
    "    for i in range(100):\n",
    "        arr = list(np.random.permutation(10**n))\n",
    "        ms.append(calculate_time(merge_sort, arr))\n",
    "        qs.append(calculate_time(quick_sort, arr))\n",
    "    print(\"n = 10^{}:\".format(n))    \n",
    "    print(\"    - час роботи MergeSort = {:.3f} секунд.\".format(sum(ms) / 100))\n",
    "    print(\"    - час роботи QuickSort = {:.3f} секунд.\".format(sum(qs) / 100))"
   ]
  },
  {
   "cell_type": "markdown",
   "id": "impressive-reference",
   "metadata": {},
   "source": [
    "**Висновок.** по обчисленням для $n=10^6$ видно, що прогноз досить точний."
   ]
  },
  {
   "cell_type": "markdown",
   "id": "recovered-dutch",
   "metadata": {},
   "source": [
    "**(в) (Середня складність QuickSort)** Зробіть модифікацію у $QuickSort$ для обчислення кількості порівнянь, які виконує алгоритм. Згенеруйте $10^2$ випадкових масивів розміру $n$ і обчисліть кількість порівнянь, яку виконує $QuickSort$ при сортуванні кожного з цих масивів. Обчисліть середню кількість порівнянь у роботі $QuickSort$ і порівняйте з $C_{n}$. Побудуйте графік, де буде зображена кількість порівнянь при сортуванні згенерованих масивів розміру $n$, середня кількість порівнянь та значення $C_{n}$ у розумних межах для $n$."
   ]
  },
  {
   "cell_type": "code",
   "execution_count": 27,
   "id": "interim-blank",
   "metadata": {},
   "outputs": [],
   "source": [
    "def quick_sort_modified(lst):\n",
    "    \"\"\" Функція повертає к-кість порівнянь необхідних для сортування \n",
    "    масиву lst за алгоритмом QuickSort. \"\"\"\n",
    "    def _quick_sort(array, a, b):\n",
    "        global num\n",
    "        if a >= b:\n",
    "            num += 1\n",
    "            return \n",
    "        pivot = array[a + (b - a) // 2]\n",
    "        left = a\n",
    "        right = b\n",
    "\n",
    "        while True:\n",
    "            while array[left] < pivot:\n",
    "                num += 1\n",
    "                left += 1\n",
    "\n",
    "            while pivot < array[right]:\n",
    "                num += 1\n",
    "                right -= 1\n",
    "\n",
    "            if left >= right:\n",
    "                num += 1\n",
    "                break\n",
    "\n",
    "            array[left], array[right] = array[right], array[left]\n",
    "            left += 1\n",
    "            right -= 1\n",
    "\n",
    "        _quick_sort(array, a, right)\n",
    "        _quick_sort(array, right + 1, b)\n",
    "    \n",
    "    \n",
    "    global num  # шукана к-кість порівнянь\n",
    "    num = 0\n",
    "    _quick_sort(lst, 0, len(lst) - 1)\n",
    "    \n",
    "    return num"
   ]
  },
  {
   "cell_type": "code",
   "execution_count": 28,
   "id": "alien-facing",
   "metadata": {},
   "outputs": [],
   "source": [
    "def generate_arr(n):\n",
    "    \"\"\" Функція генерує випадково впорядковану послідовність чисел від 1 до n. \"\"\"\n",
    "    return list(np.random.permutation(n))\n",
    "\n",
    "\n",
    "def av_comp(n, flag=True):\n",
    "    \"\"\" Середня к-кість порівнянь. \"\"\"\n",
    "    qs = []\n",
    "    for i in range(100):\n",
    "        arr = generate_arr(n)\n",
    "        qs.append(quick_sort_modified(arr))\n",
    "    num = int(sum(qs) / 100)\n",
    "    if flag:\n",
    "        print(\"Середня кількість порівнянь у роботі QuickSort для масиву з {} елементів: {}\".format(n, num))\n",
    "    return num"
   ]
  },
  {
   "cell_type": "code",
   "execution_count": 29,
   "id": "critical-strategy",
   "metadata": {},
   "outputs": [
    {
     "name": "stdout",
     "output_type": "stream",
     "text": [
      "Середня кількість порівнянь у роботі QuickSort для масиву з 100 елементів: 672\n"
     ]
    }
   ],
   "source": [
    "q = av_comp(100)"
   ]
  },
  {
   "cell_type": "code",
   "execution_count": 30,
   "id": "prime-royalty",
   "metadata": {},
   "outputs": [
    {
     "data": {
      "text/plain": [
       "847.8502585632028"
      ]
     },
     "execution_count": 30,
     "metadata": {},
     "output_type": "execute_result"
    }
   ],
   "source": [
    "Cn_2(100)"
   ]
  },
  {
   "cell_type": "code",
   "execution_count": 31,
   "id": "floppy-spending",
   "metadata": {},
   "outputs": [],
   "source": [
    "x = []\n",
    "y1 = []  # к-кість порівнянь\n",
    "y2 = []  # середня к-кість порівнянь\n",
    "y3 = []  # Cn\n",
    "\n",
    "for i in range(1, 101):\n",
    "    x.append(i)\n",
    "    arr = generate_arr(i)\n",
    "    y1.append(quick_sort_modified(arr))\n",
    "    y2.append(av_comp(i, False))\n",
    "    y3.append(Cn_2(i))"
   ]
  },
  {
   "cell_type": "code",
   "execution_count": 32,
   "id": "fatal-lending",
   "metadata": {},
   "outputs": [
    {
     "data": {
      "image/png": "[encoded data removed]",
      "text/plain": [
       "<Figure size 432x288 with 1 Axes>"
      ]
     },
     "metadata": {
      "needs_background": "light"
     },
     "output_type": "display_data"
    }
   ],
   "source": [
    "plt.plot(x, y1, label=\"к-кість порівнянь\")\n",
    "plt.plot(x, y2, label=\"середня к-кість порівнянь\")\n",
    "plt.plot(x, y3, label=\"Cn\")\n",
    "plt.xlabel(\"n\")\n",
    "plt.ylabel(\"Cn\")\n",
    "plt.title(\"К-кість порівнянь при сортуванні QuickSort\")\n",
    "plt.legend()\n",
    "plt.show()"
   ]
  },
  {
   "cell_type": "markdown",
   "id": "municipal-implement",
   "metadata": {},
   "source": [
    "**(г) (Розподіл складності)** Побудуйте наступні гістограми для $QuickSort$ та $MergeSort$ та $n=9, 10$. Перебираємо всі $n!$ перестановок чисел $1, 2, ..., n$. Будемо сортувати перестановки та обчислювати кількість порівнянь (транспозицій), які при цьому відбуваються. Нехай $f(k)$ дорівнює кількості перестановок, для яких кількість порівнянь (транспозицій) дорівнює $k$. Зобразіть функцію $f(k)$."
   ]
  },
  {
   "cell_type": "code",
   "execution_count": 33,
   "id": "banned-desperate",
   "metadata": {},
   "outputs": [],
   "source": [
    "def merge_sort_modified(array):\n",
    "    \"\"\" Функція повертає к-кість порівнянь необхідних для сортування \n",
    "    масиву array за алгоритмом MergeSort. \"\"\"\n",
    "    def merge_sort(array):\n",
    "        if len(array) <= 1:\n",
    "            return array\n",
    "\n",
    "        half = len(array) // 2\n",
    "        left = merge_sort(array[:half])\n",
    "        right = merge_sort(array[half:])\n",
    "        return merge(left, right)\n",
    "\n",
    "\n",
    "    def merge(left, right):\n",
    "        global num\n",
    "\n",
    "        left_index = 0\n",
    "        right_index = 0\n",
    "        result = []\n",
    "        while left_index < len(left) and right_index < len(right):\n",
    "            num += 1\n",
    "            if left[left_index] < right[right_index]:\n",
    "                num += 1\n",
    "                result.append(left[left_index])\n",
    "                left_index += 1\n",
    "            else:\n",
    "                num += 1\n",
    "                result.append(right[right_index])\n",
    "                right_index += 1\n",
    "\n",
    "        result += left[left_index:]\n",
    "        result += right[right_index:]\n",
    "        return result\n",
    "    \n",
    "    global num  # шукана к-кість порівнянь\n",
    "    num = 0\n",
    "    merge_sort(array)\n",
    "    return num"
   ]
  },
  {
   "cell_type": "code",
   "execution_count": 36,
   "id": "nominated-router",
   "metadata": {},
   "outputs": [],
   "source": [
    "def build_hist(alg, n):\n",
    "    x = []\n",
    "    for p in list(permutations(list(range(1, n + 1)))):\n",
    "        p = list(p)\n",
    "        \n",
    "        if alg == \"quicksort\":\n",
    "            s = quick_sort_modified(p)\n",
    "        elif alg == \"mergesort\":\n",
    "            s = merge_sort_modified(p)\n",
    "        x.append(s)\n",
    "        \n",
    "    plt.title(\"{}, n={}\".format(alg, n))\n",
    "    plt.hist(x, bins = len(set(x)))\n",
    "    \n",
    "    x1 = sorted(list(set(x)))\n",
    "    y1 = [x.count(i) for i in x1]\n",
    "    plt.plot(x1, y1, \"--\", color=\"black\")\n",
    "    plt.xlabel(\"к-кість порівнянь, k\")\n",
    "    plt.ylabel(\"к-кість перестановок, f(k)\")\n",
    "    plt.show()"
   ]
  },
  {
   "cell_type": "code",
   "execution_count": 37,
   "id": "specified-stick",
   "metadata": {},
   "outputs": [
    {
     "data": {
      "image/png": "[encoded data removed]",
      "text/plain": [
       "<Figure size 432x288 with 1 Axes>"
      ]
     },
     "metadata": {
      "needs_background": "light"
     },
     "output_type": "display_data"
    }
   ],
   "source": [
    "build_hist(\"quicksort\", 9)"
   ]
  },
  {
   "cell_type": "code",
   "execution_count": 38,
   "id": "hairy-chick",
   "metadata": {},
   "outputs": [
    {
     "data": {
      "image/png": "[encoded data removed]",
      "text/plain": [
       "<Figure size 432x288 with 1 Axes>"
      ]
     },
     "metadata": {
      "needs_background": "light"
     },
     "output_type": "display_data"
    }
   ],
   "source": [
    "build_hist(\"mergesort\", 9)"
   ]
  },
  {
   "cell_type": "code",
   "execution_count": 39,
   "id": "missing-jenny",
   "metadata": {},
   "outputs": [
    {
     "data": {
      "image/png": "[encoded data removed]",
      "text/plain": [
       "<Figure size 432x288 with 1 Axes>"
      ]
     },
     "metadata": {
      "needs_background": "light"
     },
     "output_type": "display_data"
    }
   ],
   "source": [
    "build_hist(\"quicksort\", 10)"
   ]
  },
  {
   "cell_type": "code",
   "execution_count": 40,
   "id": "fallen-attempt",
   "metadata": {},
   "outputs": [
    {
     "data": {
      "image/png": "[encoded data removed]",
      "text/plain": [
       "<Figure size 432x288 with 1 Axes>"
      ]
     },
     "metadata": {
      "needs_background": "light"
     },
     "output_type": "display_data"
    }
   ],
   "source": [
    "build_hist(\"mergesort\", 10)"
   ]
  }
 ],
 "metadata": {
  "kernelspec": {
   "display_name": "Python 3",
   "language": "python",
   "name": "python3"
  },
  "language_info": {
   "codemirror_mode": {
    "name": "ipython",
    "version": 3
   },
   "file_extension": ".py",
   "mimetype": "text/x-python",
   "name": "python",
   "nbconvert_exporter": "python",
   "pygments_lexer": "ipython3",
   "version": "3.8.10"
  }
 },
 "nbformat": 4,
 "nbformat_minor": 5
}
